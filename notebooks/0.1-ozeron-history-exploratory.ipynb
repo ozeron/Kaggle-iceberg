{
 "cells": [
  {
   "cell_type": "code",
   "execution_count": 11,
   "metadata": {},
   "outputs": [],
   "source": [
    "import pickle\n",
    "# COPIED\n",
    "import sys\n",
    "import os\n",
    "PROJECT_HOME = os.path.normpath(os.path.join(os.getcwd(), '../'))\n",
    "if PROJECT_HOME not in sys.path:\n",
    "    sys.path.append(PROJECT_HOME)"
   ]
  },
  {
   "cell_type": "code",
   "execution_count": 14,
   "metadata": {},
   "outputs": [],
   "source": [
    "os.listdir(PROJECT_HOME)\n",
    "with open(PROJECT_HOME+'/basic-conv-keras_history.pckl', 'rb') as f:\n",
    "    data = pickle.load(f)"
   ]
  },
  {
   "cell_type": "code",
   "execution_count": 15,
   "metadata": {},
   "outputs": [
    {
     "data": {
      "text/plain": [
       "{'acc': [0.5810473825866147],\n",
       " 'loss': [0.8674078859444568],\n",
       " 'val_acc': [0.6658354086471615],\n",
       " 'val_loss': [0.60853224041456]}"
      ]
     },
     "execution_count": 15,
     "metadata": {},
     "output_type": "execute_result"
    }
   ],
   "source": [
    "data"
   ]
  },
  {
   "cell_type": "code",
   "execution_count": null,
   "metadata": {},
   "outputs": [],
   "source": []
  }
 ],
 "metadata": {
  "kernelspec": {
   "display_name": "Python 3",
   "language": "python",
   "name": "python3"
  },
  "language_info": {
   "codemirror_mode": {
    "name": "ipython",
    "version": 3
   },
   "file_extension": ".py",
   "mimetype": "text/x-python",
   "name": "python",
   "nbconvert_exporter": "python",
   "pygments_lexer": "ipython3",
   "version": "3.6.3"
  }
 },
 "nbformat": 4,
 "nbformat_minor": 2
}
